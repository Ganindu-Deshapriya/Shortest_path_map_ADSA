{
 "cells": [
  {
   "cell_type": "code",
   "execution_count": 10,
   "id": "207def0a",
   "metadata": {},
   "outputs": [],
   "source": [
    "import pandas as pd\n",
    "import numpy as np\n",
    "import math\n",
    "import heapq\n",
    "import time\n",
    "import folium"
   ]
  },
  {
   "cell_type": "code",
   "execution_count": 11,
   "id": "4b7c463a",
   "metadata": {},
   "outputs": [],
   "source": [
    "cities_df = pd.read_csv(\"Data/Cities_of_SriLanka.csv\")\n",
    "\n",
    "\n",
    "# Convert to dictionary for easy lookup\n",
    "city_coords = {row['name_en']: (row['latitude'], row['longitude']) for _, row in cities_df.iterrows()}"
   ]
  },
  {
   "cell_type": "code",
   "execution_count": 12,
   "id": "cf61c828",
   "metadata": {},
   "outputs": [],
   "source": [
    "def haversine(lat1, lon1, lat2, lon2):\n",
    "    R = 6371 # Earth radius in km\n",
    "    phi1, phi2 = math.radians(lat1), math.radians(lat2)\n",
    "    dphi = math.radians(lat2 - lat1)\n",
    "    dlambda = math.radians(lon2 - lon1)\n",
    "    a = math.sin(dphi/2)**2 + math.cos(phi1)*math.cos(phi2)*math.sin(dlambda/2)**2\n",
    "    return 2 * R * math.atan2(math.sqrt(a), math.sqrt(1-a))"
   ]
  },
  {
   "cell_type": "code",
   "execution_count": 13,
   "id": "79ee8838",
   "metadata": {},
   "outputs": [],
   "source": [
    "K = 5  # number of neighbors\n",
    "cities = list(city_coords.keys())\n",
    "graph = {city: [] for city in cities}\n",
    "\n",
    "for city in cities:\n",
    "    lat1, lon1 = city_coords[city]\n",
    "    distances = []\n",
    "    for other in cities:\n",
    "        if city == other:\n",
    "            continue\n",
    "        lat2, lon2 = city_coords[other]\n",
    "        d = haversine(lat1, lon1, lat2, lon2)\n",
    "        distances.append((d, other))\n",
    "    distances.sort()\n",
    "    for d, neighbor in distances[:K]:\n",
    "        graph[city].append((neighbor, d))"
   ]
  },
  {
   "cell_type": "code",
   "execution_count": 14,
   "id": "e07594d6",
   "metadata": {},
   "outputs": [],
   "source": [
    "def dijkstra(graph, start, end):\n",
    "    pq = [(0, start, [])]\n",
    "    visited = set()\n",
    "    while pq:\n",
    "        (dist, node, path) = heapq.heappop(pq)\n",
    "        if node in visited:\n",
    "            continue\n",
    "        visited.add(node)\n",
    "        path = path + [node]\n",
    "        if node == end:\n",
    "            return dist, path\n",
    "        for neighbor, weight in graph[node]:\n",
    "            if neighbor not in visited:\n",
    "                heapq.heappush(pq, (dist+weight, neighbor, path))\n",
    "    return float(\"inf\"), []"
   ]
  },
  {
   "cell_type": "code",
   "execution_count": 15,
   "id": "f10b0e70",
   "metadata": {},
   "outputs": [
    {
     "name": "stdout",
     "output_type": "stream",
     "text": [
      "Finding shortest path from Yakkala to Hungama\n",
      "\n",
      "Dijkstra: [] Distance: inf km Time: 0.0003 s\n"
     ]
    }
   ],
   "source": [
    "source = \"Yakkala\"\n",
    "destination = \"Hungama\"\n",
    "\n",
    "print(f\"Finding shortest path from {source} to {destination}\\n\")\n",
    "\n",
    "# Dijkstra\n",
    "start_time = time.time()\n",
    "dist, path = dijkstra(graph, source, destination)\n",
    "print(\"Dijkstra:\", path, \"Distance:\", round(dist,2), \"km\", \"Time:\", round(time.time()-start_time,4), \"s\")"
   ]
  },
  {
   "cell_type": "code",
   "execution_count": 18,
   "id": "0f8faeec",
   "metadata": {},
   "outputs": [],
   "source": [
    "if path:\n",
    "    lat, lon = city_coords[source]\n",
    "    m = folium.Map(location=[lat, lon], zoom_start=8)\n",
    "\n",
    "    # Add cities to map\n",
    "    for city in path:\n",
    "        lat, lon = city_coords[city]\n",
    "        folium.Marker([lat, lon], popup=city, icon=folium.Icon(color=\"blue\")).add_to(m)\n",
    "\n",
    "    # Draw path line\n",
    "    coords = [(city_coords[city][0], city_coords[city][1]) for city in path]\n",
    "    folium.PolyLine(coords, color=\"red\", weight=3, opacity=0.8).add_to(m)\n",
    "\n",
    "    # Save map\n",
    "    m.save(\"shortest_path_map.html\")\n",
    "    print(\"Map saved as shortest_path_map.html\")\n"
   ]
  }
 ],
 "metadata": {
  "kernelspec": {
   "display_name": "Python 3 (ipykernel)",
   "language": "python",
   "name": "python3"
  },
  "language_info": {
   "codemirror_mode": {
    "name": "ipython",
    "version": 3
   },
   "file_extension": ".py",
   "mimetype": "text/x-python",
   "name": "python",
   "nbconvert_exporter": "python",
   "pygments_lexer": "ipython3",
   "version": "3.10.18"
  }
 },
 "nbformat": 4,
 "nbformat_minor": 5
}
